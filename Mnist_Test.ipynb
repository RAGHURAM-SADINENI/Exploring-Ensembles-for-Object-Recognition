{
  "cells": [
    {
      "cell_type": "code",
      "execution_count": null,
      "metadata": {
        "id": "4rWHUgkxcXlE"
      },
      "outputs": [],
      "source": [
        "# importing modules\n",
        "import numpy as np\n",
        "import tensorflow as tf\n",
        "from tensorflow import keras\n",
        "from keras import layers, activations"
      ]
    },
    {
      "cell_type": "code",
      "execution_count": null,
      "metadata": {
        "colab": {
          "base_uri": "https://localhost:8080/"
        },
        "id": "kxwMfX6-TtLY",
        "outputId": "4905a464-72e1-41cf-96fb-36c856fe0ed9"
      },
      "outputs": [
        {
          "name": "stdout",
          "output_type": "stream",
          "text": [
            "Downloading data from https://storage.googleapis.com/tensorflow/tf-keras-datasets/mnist.npz\n",
            "11493376/11490434 [==============================] - 0s 0us/step\n",
            "11501568/11490434 [==============================] - 0s 0us/step\n",
            "x_train shape: (60000, 28, 28, 1)\n",
            "60000 train samples\n",
            "10000 test samples\n"
          ]
        }
      ],
      "source": [
        "# Model / data parameters\n",
        "num_classes = 10\n",
        "input_shape = (28, 28, 1)\n",
        "\n",
        "# Load the data and split it between train and test sets\n",
        "(x_train, y_train), (x_test, y_test) = keras.datasets.mnist.load_data()\n",
        "\n",
        "# Scale images to the [0, 1] range\n",
        "x_train = x_train.astype(\"float32\") / 255\n",
        "x_test = x_test.astype(\"float32\") / 255\n",
        "# Make sure images have shape (28, 28, 1)\n",
        "x_train = np.expand_dims(x_train, -1)\n",
        "x_test = np.expand_dims(x_test, -1)\n",
        "print(\"x_train shape:\", x_train.shape)\n",
        "print(x_train.shape[0], \"train samples\")\n",
        "print(x_test.shape[0], \"test samples\")"
      ]
    },
    {
      "cell_type": "code",
      "execution_count": null,
      "metadata": {
        "id": "ZUWtiwCyT8Ev"
      },
      "outputs": [],
      "source": [
        "# convert class vectors to binary class matrices\n",
        "y_train = keras.utils.to_categorical(y_train, num_classes)\n",
        "y_test = keras.utils.to_categorical(y_test, num_classes)"
      ]
    },
    {
      "cell_type": "code",
      "execution_count": null,
      "metadata": {
        "id": "5gDP5KbBT9wM"
      },
      "outputs": [],
      "source": [
        "# VGG-16 models with different kernal sizes\n",
        "\n",
        "model = []\n",
        "\n",
        "for i in range(5):\n",
        "  model.append(keras.Sequential())\n",
        "  model[i].add(keras.layers.Conv2D(filters=64,kernel_size=(i+1, i+1),padding=\"same\", activation=\"relu\"))\n",
        "  model[i].add(keras.layers.MaxPool2D(pool_size=(2,2),strides=(2,2), padding=\"same\"))\n",
        "  model[i].add(keras.layers.Conv2D(filters=128, kernel_size=(i+1, i+1), padding=\"same\", activation=\"relu\"))\n",
        "  model[i].add(keras.layers.MaxPool2D(pool_size=(2,2),strides=(2,2), padding=\"same\"))\n",
        "  model[i].add(keras.layers.Conv2D(filters=256, kernel_size=(i+1, i+1), padding=\"same\", activation=\"relu\"))\n",
        "  model[i].add(keras.layers.MaxPool2D(pool_size=(2,2),strides=(2,2), padding=\"same\"))\n",
        "  model[i].add(keras.layers.Flatten())\n",
        "  model[i].add(keras.layers.Dense(units=1024,activation=\"relu\"))\n",
        "  model[i].add(keras.layers.Dense(units=10, activation=\"softmax\"))"
      ]
    },
    {
      "cell_type": "code",
      "execution_count": null,
      "metadata": {
        "colab": {
          "background_save": true,
          "base_uri": "https://localhost:8080/"
        },
        "id": "1O1sB_7CV3W7",
        "outputId": "5eae44f4-f48f-4e87-a6ca-0f369e3f7e34"
      },
      "outputs": [
        {
          "name": "stdout",
          "output_type": "stream",
          "text": [
            "Epoch 1/15\n",
            "399/399 [==============================] - 101s 250ms/step - loss: 0.9405 - accuracy: 0.6802 - val_loss: 0.6633 - val_accuracy: 0.7776\n",
            "Epoch 2/15\n",
            "399/399 [==============================] - 100s 251ms/step - loss: 0.6838 - accuracy: 0.7671 - val_loss: 0.6375 - val_accuracy: 0.7908\n",
            "Epoch 3/15\n",
            "399/399 [==============================] - 101s 254ms/step - loss: 0.6298 - accuracy: 0.7839 - val_loss: 0.5817 - val_accuracy: 0.8063\n",
            "Epoch 4/15\n",
            "399/399 [==============================] - 100s 251ms/step - loss: 0.5958 - accuracy: 0.7963 - val_loss: 0.5587 - val_accuracy: 0.8081\n",
            "Epoch 5/15\n",
            "399/399 [==============================] - 101s 254ms/step - loss: 0.5672 - accuracy: 0.8058 - val_loss: 0.5448 - val_accuracy: 0.8161\n",
            "Epoch 6/15\n",
            "399/399 [==============================] - 101s 253ms/step - loss: 0.5443 - accuracy: 0.8131 - val_loss: 0.5086 - val_accuracy: 0.8287\n",
            "Epoch 7/15\n",
            "399/399 [==============================] - 101s 253ms/step - loss: 0.5241 - accuracy: 0.8200 - val_loss: 0.5042 - val_accuracy: 0.8283\n",
            "Epoch 8/15\n",
            "399/399 [==============================] - 100s 251ms/step - loss: 0.5004 - accuracy: 0.8279 - val_loss: 0.5110 - val_accuracy: 0.8256\n",
            "Epoch 9/15\n",
            "399/399 [==============================] - 101s 253ms/step - loss: 0.4811 - accuracy: 0.8354 - val_loss: 0.4680 - val_accuracy: 0.8439\n",
            "Epoch 10/15\n",
            "399/399 [==============================] - 100s 251ms/step - loss: 0.4644 - accuracy: 0.8418 - val_loss: 0.4700 - val_accuracy: 0.8448\n",
            "Epoch 11/15\n",
            "399/399 [==============================] - 100s 251ms/step - loss: 0.4472 - accuracy: 0.8466 - val_loss: 0.4472 - val_accuracy: 0.8522\n",
            "Epoch 12/15\n",
            "399/399 [==============================] - 100s 251ms/step - loss: 0.4274 - accuracy: 0.8533 - val_loss: 0.4446 - val_accuracy: 0.8536\n",
            "Epoch 13/15\n",
            "399/399 [==============================] - 100s 251ms/step - loss: 0.4154 - accuracy: 0.8569 - val_loss: 0.4473 - val_accuracy: 0.8501\n",
            "Epoch 14/15\n",
            "399/399 [==============================] - 100s 251ms/step - loss: 0.3956 - accuracy: 0.8632 - val_loss: 0.4306 - val_accuracy: 0.8566\n",
            "Epoch 15/15\n",
            "399/399 [==============================] - 101s 252ms/step - loss: 0.3803 - accuracy: 0.8699 - val_loss: 0.4333 - val_accuracy: 0.8554\n",
            "Epoch 1/15\n",
            "399/399 [==============================] - 194s 484ms/step - loss: 0.1732 - accuracy: 0.9443 - val_loss: 0.0514 - val_accuracy: 0.9842\n",
            "Epoch 2/15\n",
            "399/399 [==============================] - 193s 485ms/step - loss: 0.0475 - accuracy: 0.9852 - val_loss: 0.0320 - val_accuracy: 0.9898\n",
            "Epoch 3/15\n",
            "399/399 [==============================] - 192s 482ms/step - loss: 0.0325 - accuracy: 0.9897 - val_loss: 0.0334 - val_accuracy: 0.9900\n",
            "Epoch 4/15\n",
            "399/399 [==============================] - 193s 483ms/step - loss: 0.0241 - accuracy: 0.9918 - val_loss: 0.0296 - val_accuracy: 0.9912\n",
            "Epoch 5/15\n",
            "399/399 [==============================] - 192s 481ms/step - loss: 0.0193 - accuracy: 0.9933 - val_loss: 0.0312 - val_accuracy: 0.9909\n",
            "Epoch 6/15\n",
            "399/399 [==============================] - 192s 482ms/step - loss: 0.0160 - accuracy: 0.9947 - val_loss: 0.0442 - val_accuracy: 0.9879\n",
            "Epoch 7/15\n",
            "399/399 [==============================] - 192s 480ms/step - loss: 0.0135 - accuracy: 0.9956 - val_loss: 0.0299 - val_accuracy: 0.9913\n",
            "Epoch 8/15\n",
            "399/399 [==============================] - 192s 482ms/step - loss: 0.0106 - accuracy: 0.9963 - val_loss: 0.0308 - val_accuracy: 0.9914\n",
            "Epoch 9/15\n",
            "399/399 [==============================] - 192s 482ms/step - loss: 0.0120 - accuracy: 0.9958 - val_loss: 0.0278 - val_accuracy: 0.9931\n",
            "Epoch 10/15\n",
            "399/399 [==============================] - 192s 481ms/step - loss: 0.0087 - accuracy: 0.9972 - val_loss: 0.0371 - val_accuracy: 0.9909\n",
            "Epoch 11/15\n",
            "399/399 [==============================] - 192s 481ms/step - loss: 0.0080 - accuracy: 0.9974 - val_loss: 0.0462 - val_accuracy: 0.9899\n",
            "Epoch 12/15\n",
            "399/399 [==============================] - 192s 481ms/step - loss: 0.0063 - accuracy: 0.9980 - val_loss: 0.0451 - val_accuracy: 0.9910\n",
            "Epoch 13/15\n",
            "399/399 [==============================] - 192s 481ms/step - loss: 0.0080 - accuracy: 0.9973 - val_loss: 0.0484 - val_accuracy: 0.9886\n",
            "Epoch 14/15\n",
            "399/399 [==============================] - 192s 480ms/step - loss: 0.0066 - accuracy: 0.9977 - val_loss: 0.0408 - val_accuracy: 0.9909\n",
            "Epoch 15/15\n",
            "399/399 [==============================] - 192s 481ms/step - loss: 0.0054 - accuracy: 0.9982 - val_loss: 0.0601 - val_accuracy: 0.9891\n",
            "Epoch 1/15\n",
            "399/399 [==============================] - 321s 803ms/step - loss: 0.1639 - accuracy: 0.9480 - val_loss: 0.0585 - val_accuracy: 0.9833\n",
            "Epoch 2/15\n",
            "399/399 [==============================] - 320s 801ms/step - loss: 0.0413 - accuracy: 0.9873 - val_loss: 0.0351 - val_accuracy: 0.9909\n",
            "Epoch 3/15\n",
            "399/399 [==============================] - 319s 799ms/step - loss: 0.0259 - accuracy: 0.9915 - val_loss: 0.0295 - val_accuracy: 0.9917\n",
            "Epoch 4/15\n",
            "399/399 [==============================] - 318s 798ms/step - loss: 0.0194 - accuracy: 0.9935 - val_loss: 0.0298 - val_accuracy: 0.9918\n",
            "Epoch 5/15\n",
            "399/399 [==============================] - 318s 798ms/step - loss: 0.0168 - accuracy: 0.9943 - val_loss: 0.0411 - val_accuracy: 0.9888\n",
            "Epoch 6/15\n",
            "399/399 [==============================] - 318s 798ms/step - loss: 0.0110 - accuracy: 0.9962 - val_loss: 0.0332 - val_accuracy: 0.9908\n",
            "Epoch 7/15\n",
            "399/399 [==============================] - 319s 799ms/step - loss: 0.0104 - accuracy: 0.9966 - val_loss: 0.0341 - val_accuracy: 0.9911\n",
            "Epoch 8/15\n",
            "399/399 [==============================] - 318s 798ms/step - loss: 0.0090 - accuracy: 0.9971 - val_loss: 0.0353 - val_accuracy: 0.9913\n",
            "Epoch 9/15\n",
            "399/399 [==============================] - 318s 798ms/step - loss: 0.0089 - accuracy: 0.9968 - val_loss: 0.0284 - val_accuracy: 0.9938\n",
            "Epoch 10/15\n",
            "399/399 [==============================] - 318s 798ms/step - loss: 0.0069 - accuracy: 0.9977 - val_loss: 0.0414 - val_accuracy: 0.9904\n",
            "Epoch 11/15\n",
            "399/399 [==============================] - 319s 799ms/step - loss: 0.0079 - accuracy: 0.9975 - val_loss: 0.0366 - val_accuracy: 0.9924\n",
            "Epoch 12/15\n",
            "399/399 [==============================] - 319s 799ms/step - loss: 0.0045 - accuracy: 0.9985 - val_loss: 0.0350 - val_accuracy: 0.9929\n",
            "Epoch 13/15\n",
            "399/399 [==============================] - 319s 799ms/step - loss: 0.0065 - accuracy: 0.9979 - val_loss: 0.0309 - val_accuracy: 0.9938\n",
            "Epoch 14/15\n",
            "399/399 [==============================] - 319s 800ms/step - loss: 0.0055 - accuracy: 0.9984 - val_loss: 0.0381 - val_accuracy: 0.9908\n",
            "Epoch 15/15\n",
            "399/399 [==============================] - 319s 800ms/step - loss: 0.0057 - accuracy: 0.9984 - val_loss: 0.0334 - val_accuracy: 0.9926\n",
            "Epoch 1/15\n",
            "399/399 [==============================] - 467s 1s/step - loss: 0.1469 - accuracy: 0.9528 - val_loss: 0.0373 - val_accuracy: 0.9881\n",
            "Epoch 2/15\n",
            "399/399 [==============================] - 466s 1s/step - loss: 0.0383 - accuracy: 0.9881 - val_loss: 0.0361 - val_accuracy: 0.9894\n",
            "Epoch 3/15\n",
            "399/399 [==============================] - 465s 1s/step - loss: 0.0231 - accuracy: 0.9928 - val_loss: 0.0279 - val_accuracy: 0.9901\n",
            "Epoch 4/15\n",
            "399/399 [==============================] - 466s 1s/step - loss: 0.0176 - accuracy: 0.9944 - val_loss: 0.0341 - val_accuracy: 0.9912\n",
            "Epoch 5/15\n",
            "399/399 [==============================] - 465s 1s/step - loss: 0.0147 - accuracy: 0.9952 - val_loss: 0.0319 - val_accuracy: 0.9926\n",
            "Epoch 6/15\n",
            "399/399 [==============================] - 460s 1s/step - loss: 0.0105 - accuracy: 0.9965 - val_loss: 0.0469 - val_accuracy: 0.9882\n",
            "Epoch 7/15\n",
            "399/399 [==============================] - 460s 1s/step - loss: 0.0116 - accuracy: 0.9961 - val_loss: 0.0301 - val_accuracy: 0.9926\n",
            "Epoch 8/15\n",
            "399/399 [==============================] - 460s 1s/step - loss: 0.0077 - accuracy: 0.9975 - val_loss: 0.0431 - val_accuracy: 0.9904\n",
            "Epoch 9/15\n",
            "399/399 [==============================] - 460s 1s/step - loss: 0.0083 - accuracy: 0.9974 - val_loss: 0.0391 - val_accuracy: 0.9916\n",
            "Epoch 10/15\n",
            "399/399 [==============================] - 461s 1s/step - loss: 0.0070 - accuracy: 0.9975 - val_loss: 0.0513 - val_accuracy: 0.9901\n",
            "Epoch 11/15\n",
            "399/399 [==============================] - 460s 1s/step - loss: 0.0061 - accuracy: 0.9979 - val_loss: 0.0461 - val_accuracy: 0.9910\n",
            "Epoch 12/15\n",
            " 68/399 [====>.........................] - ETA: 6:09 - loss: 0.0033 - accuracy: 0.9985"
          ]
        }
      ],
      "source": [
        "# training the model\n",
        "batch_size = 128\n",
        "epochs = 15\n",
        "for i in range(5):\n",
        "  model[i].compile(loss=\"categorical_crossentropy\", optimizer=\"adam\", metrics=[\"accuracy\"])\n",
        "  model[i].fit(x_train, y_train, batch_size=batch_size, epochs=epochs, validation_split=0.15)"
      ]
    },
    {
      "cell_type": "code",
      "execution_count": null,
      "metadata": {
        "id": "n0kdOa8jV6qx"
      },
      "outputs": [],
      "source": [
        "for i in range(5):\n",
        "  print(\"Model number:\"+ str(i))\n",
        "  score = model[i].evaluate(x_test, y_test, verbose=0)\n",
        "  # model[i].save('')\n",
        "  print(\"Test loss:\", score[0])\n",
        "  print(\"Test accuracy:\", score[1])"
      ]
    },
    {
      "cell_type": "code",
      "execution_count": null,
      "metadata": {
        "id": "SlZGVW6SwE6e"
      },
      "outputs": [],
      "source": [
        ""
      ]
    }
  ],
  "metadata": {
    "colab": {
      "name": "Mnist varying kernal sizes comparision.ipynb",
      "provenance": []
    },
    "kernelspec": {
      "display_name": "Python 3",
      "name": "python3"
    },
    "language_info": {
      "name": "python"
    }
  },
  "nbformat": 4,
  "nbformat_minor": 0
}