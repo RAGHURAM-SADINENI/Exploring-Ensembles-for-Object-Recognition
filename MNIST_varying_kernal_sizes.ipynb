{
  "cells": [
    {
      "cell_type": "code",
      "execution_count": null,
      "metadata": {
        "id": "4rWHUgkxcXlE"
      },
      "outputs": [],
      "source": [
        "# importing modules\n",
        "import numpy as np\n",
        "import tensorflow as tf\n",
        "from tensorflow import keras\n",
        "from keras import layers, activations"
      ]
    },
    {
      "cell_type": "code",
      "execution_count": null,
      "metadata": {
        "colab": {
          "base_uri": "https://localhost:8080/"
        },
        "id": "kxwMfX6-TtLY",
        "outputId": "d488b8aa-edd2-46c2-c9e7-171fec19c004"
      },
      "outputs": [
        {
          "name": "stdout",
          "output_type": "stream",
          "text": [
            "Downloading data from https://storage.googleapis.com/tensorflow/tf-keras-datasets/mnist.npz\n",
            "11493376/11490434 [==============================] - 0s 0us/step\n",
            "11501568/11490434 [==============================] - 0s 0us/step\n",
            "x_train shape: (60000, 28, 28, 1)\n",
            "60000 train samples\n",
            "10000 test samples\n"
          ]
        }
      ],
      "source": [
        "# Model / data parameters\n",
        "num_classes = 10\n",
        "input_shape = (28, 28, 1)\n",
        "\n",
        "# Load the data and split it between train and test sets\n",
        "(x_train, y_train), (x_test, y_test) = keras.datasets.mnist.load_data()\n",
        "\n",
        "# Scale images to the [0, 1] range\n",
        "x_train = x_train.astype(\"float32\") / 255\n",
        "x_test = x_test.astype(\"float32\") / 255\n",
        "# Make sure images have shape (28, 28, 1)\n",
        "x_train = np.expand_dims(x_train, -1)\n",
        "x_test = np.expand_dims(x_test, -1)\n",
        "print(\"x_train shape:\", x_train.shape)\n",
        "print(x_train.shape[0], \"train samples\")\n",
        "print(x_test.shape[0], \"test samples\")"
      ]
    },
    {
      "cell_type": "code",
      "execution_count": null,
      "metadata": {
        "id": "ZUWtiwCyT8Ev"
      },
      "outputs": [],
      "source": [
        "# convert class vectors to binary class matrices\n",
        "y_train = keras.utils.to_categorical(y_train, num_classes)\n",
        "y_test = keras.utils.to_categorical(y_test, num_classes)"
      ]
    },
    {
      "cell_type": "code",
      "execution_count": null,
      "metadata": {
        "id": "5gDP5KbBT9wM"
      },
      "outputs": [],
      "source": [
        "# VGG-16 model\n",
        "\n",
        "model = keras.Sequential()\n",
        "model.add(keras.layers.Conv2D(filters=64,kernel_size=(3,3),padding=\"same\", activation=\"relu\"))\n",
        "model.add(keras.layers.MaxPool2D(pool_size=(2,2),strides=(2,2), padding=\"same\"))\n",
        "model.add(keras.layers.Conv2D(filters=128, kernel_size=(3,3), padding=\"same\", activation=\"relu\"))\n",
        "model.add(keras.layers.MaxPool2D(pool_size=(2,2),strides=(2,2), padding=\"same\"))\n",
        "model.add(keras.layers.Conv2D(filters=256, kernel_size=(3,3), padding=\"same\", activation=\"relu\"))\n",
        "model.add(keras.layers.MaxPool2D(pool_size=(2,2),strides=(2,2), padding=\"same\"))\n",
        "model.add(keras.layers.Flatten())\n",
        "model.add(keras.layers.Dense(units=1024,activation=\"relu\"))\n",
        "model.add(keras.layers.Dense(units=10, activation=\"softmax\"))"
      ]
    },
    {
      "cell_type": "code",
      "execution_count": null,
      "metadata": {
        "colab": {
          "background_save": true,
          "base_uri": "https://localhost:8080/"
        },
        "id": "1O1sB_7CV3W7",
        "outputId": "5aa4f200-8146-48ee-a4c4-cfe7f0931808"
      },
      "outputs": [
        {
          "name": "stdout",
          "output_type": "stream",
          "text": [
            "Epoch 1/15\n",
            "399/399 [==============================] - 330s 825ms/step - loss: 0.1584 - accuracy: 0.9500 - val_loss: 0.0356 - val_accuracy: 0.9903\n",
            "Epoch 2/15\n",
            "399/399 [==============================] - 327s 821ms/step - loss: 0.0420 - accuracy: 0.9871 - val_loss: 0.0339 - val_accuracy: 0.9903\n",
            "Epoch 3/15\n",
            "399/399 [==============================] - 329s 824ms/step - loss: 0.0268 - accuracy: 0.9917 - val_loss: 0.0345 - val_accuracy: 0.9902\n",
            "Epoch 4/15\n",
            "399/399 [==============================] - 327s 821ms/step - loss: 0.0183 - accuracy: 0.9942 - val_loss: 0.0285 - val_accuracy: 0.9923\n",
            "Epoch 5/15\n",
            "399/399 [==============================] - 326s 816ms/step - loss: 0.0162 - accuracy: 0.9948 - val_loss: 0.0379 - val_accuracy: 0.9900\n",
            "Epoch 6/15\n",
            "399/399 [==============================] - 320s 801ms/step - loss: 0.0120 - accuracy: 0.9959 - val_loss: 0.0331 - val_accuracy: 0.9920\n",
            "Epoch 7/15\n",
            "399/399 [==============================] - 319s 800ms/step - loss: 0.0115 - accuracy: 0.9961 - val_loss: 0.0339 - val_accuracy: 0.9926\n",
            "Epoch 8/15\n",
            "399/399 [==============================] - 319s 800ms/step - loss: 0.0090 - accuracy: 0.9969 - val_loss: 0.0313 - val_accuracy: 0.9923\n",
            "Epoch 9/15\n",
            "399/399 [==============================] - 321s 804ms/step - loss: 0.0095 - accuracy: 0.9967 - val_loss: 0.0537 - val_accuracy: 0.9884\n",
            "Epoch 10/15\n",
            "399/399 [==============================] - 323s 810ms/step - loss: 0.0084 - accuracy: 0.9972 - val_loss: 0.0325 - val_accuracy: 0.9921\n",
            "Epoch 11/15\n",
            "399/399 [==============================] - 323s 810ms/step - loss: 0.0058 - accuracy: 0.9981 - val_loss: 0.0467 - val_accuracy: 0.9916\n",
            "Epoch 12/15\n",
            "399/399 [==============================] - 322s 808ms/step - loss: 0.0067 - accuracy: 0.9980 - val_loss: 0.0341 - val_accuracy: 0.9929\n",
            "Epoch 13/15\n",
            "399/399 [==============================] - 322s 807ms/step - loss: 0.0061 - accuracy: 0.9981 - val_loss: 0.0298 - val_accuracy: 0.9928\n",
            "Epoch 14/15\n",
            "399/399 [==============================] - 322s 807ms/step - loss: 0.0055 - accuracy: 0.9981 - val_loss: 0.0404 - val_accuracy: 0.9929\n",
            "Epoch 15/15\n",
            "399/399 [==============================] - 321s 806ms/step - loss: 0.0063 - accuracy: 0.9981 - val_loss: 0.0361 - val_accuracy: 0.9920\n"
          ]
        },
        {
          "data": {
            "text/plain": [
              "<keras.callbacks.History at 0x7f4f3cb0cdd0>"
            ]
          },
          "execution_count": 5,
          "metadata": {},
          "output_type": "execute_result"
        }
      ],
      "source": [
        "# training the model\n",
        "batch_size = 128\n",
        "epochs = 15\n",
        "\n",
        "model.compile(loss=\"categorical_crossentropy\", optimizer=\"adam\", metrics=[\"accuracy\"])\n",
        "\n",
        "model.fit(x_train, y_train, batch_size=batch_size, epochs=epochs, validation_split=0.15)"
      ]
    },
    {
      "cell_type": "code",
      "execution_count": null,
      "metadata": {
        "colab": {
          "background_save": true
        },
        "id": "n0kdOa8jV6qx",
        "outputId": "50da6bc4-ab35-4915-92ba-1c2e9eb74b3d"
      },
      "outputs": [
        {
          "name": "stdout",
          "output_type": "stream",
          "text": [
            "Test loss: 0.03155626356601715\n",
            "Test accuracy: 0.9922999739646912\n"
          ]
        }
      ],
      "source": [
        "score = model.evaluate(x_test, y_test, verbose=0)\n",
        "print(\"Test loss:\", score[0])\n",
        "print(\"Test accuracy:\", score[1])"
      ]
    },
    {
      "cell_type": "code",
      "execution_count": null,
      "metadata": {
        "colab": {
          "background_save": true
        },
        "id": "SlZGVW6SwE6e"
      },
      "outputs": [],
      "source": [
        ""
      ]
    }
  ],
  "metadata": {
    "colab": {
      "name": "MNIST varying kernal sizes.ipynb",
      "provenance": []
    },
    "kernelspec": {
      "display_name": "Python 3",
      "name": "python3"
    },
    "language_info": {
      "name": "python"
    }
  },
  "nbformat": 4,
  "nbformat_minor": 0
}